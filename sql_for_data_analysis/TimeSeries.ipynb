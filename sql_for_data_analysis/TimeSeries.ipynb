{
 "cells": [
  {
   "cell_type": "markdown",
   "id": "c6b13260-45c4-4ccb-b86d-f8f3fbd16977",
   "metadata": {},
   "source": [
    "# Time Series Analysis\n",
    "\n",
    "Time series analysis is commonly used to understand trends and seasonality with forecasting as one of the most important applications.\n",
    "\n",
    "In this tutorial we'll look to analyse trends by:\n",
    "- Deriving a moving averages using rolling windows\n",
    "- Making cumulative comparisons by deriving MTD and YTD values\n",
    "\n",
    "and seasonality by comparing periods like month on month(MoM) or year on year (YoY).\n",
    "\n",
    "To start we'll need to do some imports and load the [Jupysql](https://jupysql.ploomber.io/en/latest/quick-start.html) extension which allows is to conveniently write SQL directly in cells."
   ]
  },
  {
   "cell_type": "code",
   "execution_count": null,
   "id": "cd9b60d5-3ac5-4af8-a324-c3b94bf32fb0",
   "metadata": {},
   "outputs": [],
   "source": [
    "import duckdb\n",
    "import pandas as pd\n",
    "import matplotlib.pyplot as plt\n",
    "\n",
    "%load_ext sql"
   ]
  },
  {
   "cell_type": "markdown",
   "id": "3d49f2f8-a7b6-4098-819a-0cae2d1719aa",
   "metadata": {},
   "source": [
    "We'll also set some Jupysql configuration options. Other options can be viewed [here](https://jupysql.ploomber.io/en/latest/api/configuration.html)."
   ]
  },
  {
   "cell_type": "code",
   "execution_count": null,
   "id": "b408c7a8-d3b8-46d4-b315-da1f5beb3d8c",
   "metadata": {},
   "outputs": [],
   "source": [
    "# Return the resultset as a pandas dataframe\n",
    "%config SqlMagic.autopandas = True\n",
    "\n",
    "# Verbosity level. 0=minimal, 1=normal, 2=all\n",
    "%config SqlMagic.feedback = 0\n",
    "\n",
    "# Show connection string after execution\n",
    "%config SqlMagic.displaycon = False\n",
    "\n",
    "%config SqlMagic.displaylimit = 10"
   ]
  },
  {
   "cell_type": "markdown",
   "id": "c63ff3bc-b584-4a77-b8eb-afa1b618abe4",
   "metadata": {},
   "source": [
    "Connnect to an **in-memory** duckdb database."
   ]
  },
  {
   "cell_type": "code",
   "execution_count": null,
   "id": "28ba7d16-589f-4377-bb4a-f8477e0f30ec",
   "metadata": {},
   "outputs": [],
   "source": [
    "%sql duckdb:///:default:"
   ]
  },
  {
   "cell_type": "markdown",
   "id": "77bbcd6e-bc66-472d-b2cf-ffbab70d3149",
   "metadata": {},
   "source": [
    "And now we are ready to do a little data wrangling.\n",
    "\n",
    "The dataset we'll be using was downloaded from [Kaggle](https://www.kaggle.com/datasets/gabrielsantello/wholesale-and-retail-orders-dataset) and consists of a single csv containing order lines. Let's look at a sample."
   ]
  },
  {
   "cell_type": "code",
   "execution_count": null,
   "id": "9c4715e2-ef82-4c2f-b3af-6bebc591e406",
   "metadata": {},
   "outputs": [],
   "source": [
    "%sql select * from read_csv_auto('./data/retail_orders/orders.csv') limit 5;"
   ]
  },
  {
   "cell_type": "markdown",
   "id": "718517bf-edf0-43bf-8b64-140643037628",
   "metadata": {},
   "source": [
    "It looks like some basic wrangling like renaming the columns, setting the date format and standardising the status column is needed. "
   ]
  },
  {
   "cell_type": "code",
   "execution_count": null,
   "id": "bbf451dd-ac81-42ed-bc10-f98d68e7a9b7",
   "metadata": {},
   "outputs": [],
   "source": [
    "%%sql\n",
    "\n",
    "-- Read in the csv file and rename the columns and set the dateformat\n",
    "\n",
    "create or replace table orders as select * from read_csv_auto(\n",
    "    './data/retail_orders/orders.csv', \n",
    "    names=[\n",
    "        'customer_id', \n",
    "        'status', \n",
    "        'order_date', \n",
    "        'delivery_date', \n",
    "        'order_id', \n",
    "        'product_id', \n",
    "        'qty', \n",
    "        'total', \n",
    "        'unit_cost', \n",
    "    ],\n",
    "    skip=1,\n",
    "    dateformat='%d-%b-%y'\n",
    ");\n",
    "\n",
    "-- Standardise the status column as lowercase\n",
    "\n",
    "update orders set status = lower(status) where lower(status) <> status;"
   ]
  },
  {
   "cell_type": "markdown",
   "id": "ef284753-9f3c-4476-ac63-7697a949a773",
   "metadata": {},
   "source": [
    "Since most of our analysis will be comparing sales by month let's go ahead and create an aggregate table representing monthly sales."
   ]
  },
  {
   "cell_type": "code",
   "execution_count": null,
   "id": "edac7f0a-057b-4e8a-88c2-51c9b3f8cdc3",
   "metadata": {},
   "outputs": [],
   "source": [
    "%%sql\n",
    "\n",
    "create or replace table sales_monthly as (\n",
    "select order_date - (interval (date_part('day', order_date) - 1) day) as sales_month \n",
    ",sum(total) as sales\n",
    "from orders group by 1 order by 1 asc\n",
    ");\n",
    "\n",
    "select * from sales_monthly limit 10;"
   ]
  },
  {
   "cell_type": "markdown",
   "id": "827fd3be-9847-45ed-b47d-e304a97e8788",
   "metadata": {},
   "source": [
    "Now for our first bit of trend analysis.\n",
    "\n",
    "## Rolling Time Windows\n",
    "\n",
    "A very useful statistic to reveal a trend is to calculate a [moving average](https://en.wikipedia.org/wiki/Moving_average).\n",
    "\n",
    "In this case we take the average sales over 7 months (current month with 3 months before and after). This is easily achieved using a window function with the very useful preceding and following clauses to give us a rolling window. "
   ]
  },
  {
   "cell_type": "code",
   "execution_count": null,
   "id": "a7b469c8-f5a4-4ab0-8f78-4b7e570e63fb",
   "metadata": {},
   "outputs": [],
   "source": [
    "%%sql --save moving_averages --no-execute\n",
    "\n",
    "select sales_month \n",
    ",sales\n",
    ",avg(sales)over (order by sales_month rows between 3 preceding and 3 following) as moving_avg\n",
    "from sales_monthly \n",
    "order by 1 asc;"
   ]
  },
  {
   "cell_type": "code",
   "execution_count": null,
   "id": "54739ab2-305f-4eee-b8bc-cecb05cca6f1",
   "metadata": {},
   "outputs": [],
   "source": [
    "result = %sql select * from moving_averages;\n",
    "result.set_index(\"sales_month\").plot()"
   ]
  },
  {
   "cell_type": "markdown",
   "id": "cd0f234d-e0d2-4d7b-8189-5e692bd9c824",
   "metadata": {},
   "source": [
    "A cumulative analysis (MTD/YTD) can also be quite useful to understand"
   ]
  },
  {
   "cell_type": "code",
   "execution_count": null,
   "id": "5d0d33ff-0319-4ae0-a939-395ed8ea69f6",
   "metadata": {},
   "outputs": [],
   "source": [
    "%%sql --save sales --no-execute\n",
    "with cte as (\n",
    "select order_date \n",
    ",sum(total) as amt \n",
    "from orders group by 1 order by 1 asc\n",
    ")\n",
    "select \n",
    "order_date \n",
    ",amt \n",
    ",sum(amt) over (partition by year(order_date), month(order_date) order by order_date) as mtd\n",
    ",sum(amt) over (partition by year(order_date) order by order_date) as ytd\n",
    "from cte\n",
    "group by 1, 2 order by 1; "
   ]
  },
  {
   "cell_type": "code",
   "execution_count": null,
   "id": "9e50b57b-7085-49ca-abba-ce6dbde9dc83",
   "metadata": {},
   "outputs": [],
   "source": [
    "result = %sql select * from sales;\n",
    "result.set_index(\"order_date\").plot()"
   ]
  },
  {
   "cell_type": "markdown",
   "id": "ae744fed-21be-4d16-872e-1539d87ce183",
   "metadata": {},
   "source": [
    "## Seasonality"
   ]
  },
  {
   "cell_type": "markdown",
   "id": "2d103215-dc81-43b9-9d5a-4c85482b7c68",
   "metadata": {},
   "source": [
    "### Period comparisons (Mom/YoY)"
   ]
  },
  {
   "cell_type": "code",
   "execution_count": null,
   "id": "08c937ca-9c1b-4636-a635-5d051c5841c8",
   "metadata": {},
   "outputs": [],
   "source": [
    "%%sql\n",
    "select sales_month\n",
    ",sales\n",
    ",lag(sales_month) over (order by sales_month) as prev_month\n",
    ",lag(sales) over (order by sales_month) as prev_month_amt\n",
    "from sales_monthly order by sales_month limit 12;"
   ]
  },
  {
   "cell_type": "code",
   "execution_count": null,
   "id": "8d1a3dd0-9ed1-4afa-b37f-149e7f24690a",
   "metadata": {},
   "outputs": [],
   "source": [
    "%%sql\n",
    "with cte as (\n",
    "select sales_month\n",
    ",sales\n",
    ",lag(sales, 12) over (order by sales_month) as prev_year_sales\n",
    "from sales_monthly \n",
    "order by sales_month \n",
    ")\n",
    "select * from cte where sales_month >= '2018-01-01'limit 12;"
   ]
  },
  {
   "cell_type": "code",
   "execution_count": null,
   "id": "93f7ec9b-1dc9-4afa-bd2e-210c5b095601",
   "metadata": {},
   "outputs": [],
   "source": [
    "result = _\n",
    "result.set_index(\"order_date\").plot()"
   ]
  },
  {
   "cell_type": "code",
   "execution_count": null,
   "id": "e8b8a95c-9823-410d-8eaf-5a33bad586db",
   "metadata": {},
   "outputs": [],
   "source": [
    "%%sql\n",
    "select date_part('month',order_date) as month_number\n",
    ",sum(case when date_part('year',order_date) = 2017 then total end) \n",
    " as sales_2017\n",
    ",sum(case when date_part('year',order_date) = 2018 then total end) \n",
    " as sales_2018\n",
    ",sum(case when date_part('year',order_date) = 2019 then total end) \n",
    " as sales_2019\n",
    ",sum(case when date_part('year',order_date) = 2020 then total end) \n",
    " as sales_2020\n",
    ",sum(case when date_part('year',order_date) = 2021 then total end) \n",
    " as sales_2021\n",
    "from orders\n",
    "group by 1;"
   ]
  },
  {
   "cell_type": "code",
   "execution_count": null,
   "id": "47dd21d1-e838-4edd-b3f7-342503d9c0a9",
   "metadata": {},
   "outputs": [],
   "source": [
    "result = _\n",
    "result.set_index(\"month_number\").plot()"
   ]
  },
  {
   "cell_type": "markdown",
   "id": "6e4ca3f7-2e9d-4c5b-a28a-d12cde899fa3",
   "metadata": {},
   "source": [
    "## Comparing to Multiple Prior Periods"
   ]
  },
  {
   "cell_type": "code",
   "execution_count": null,
   "id": "2c1dbe71-7a67-4934-a812-9a9bd40ccf5a",
   "metadata": {},
   "outputs": [],
   "source": [
    "%%sql\n",
    "with cte as (\n",
    "select sales_month \n",
    ",sales\n",
    ",lag(sales,1) over prev_months as prev_sales_1\n",
    ",lag(sales,2) over prev_months as prev_sales_2\n",
    ",lag(sales,3) over prev_months as prev_sales_3\n",
    ",lag(sales,4) over prev_months as prev_sales_4\n",
    "from sales_monthly\n",
    "window prev_months as (\n",
    "    partition by date_part('month',sales_month) \n",
    "    order by sales_month\n",
    "))\n",
    "select * from cte where sales_month >= '2021-01-01' order by sales_month asc;"
   ]
  },
  {
   "cell_type": "code",
   "execution_count": null,
   "id": "92d9938a-0464-495f-ba3c-d5b3f4a83425",
   "metadata": {},
   "outputs": [],
   "source": [
    "%%sql\n",
    "with cte as (\n",
    "select sales_month \n",
    ",sales\n",
    ",sum(sales) over prev_4_months as sales_prev_4\n",
    ",sales / sum(sales) over prev_4_months as pct_of_prev_4\n",
    "from sales_monthly\n",
    "window prev_4_months as (\n",
    "    partition by date_part('month',sales_month)\n",
    "    order by sales_month\n",
    "    rows between 4 preceding and 1 preceding\n",
    "))\n",
    "select * from cte where sales_month >= '2021-01-01' order by sales_month asc;"
   ]
  },
  {
   "cell_type": "code",
   "execution_count": null,
   "id": "807eb553-ffdd-4b72-bf15-550249aa7637",
   "metadata": {},
   "outputs": [],
   "source": []
  }
 ],
 "metadata": {
  "kernelspec": {
   "display_name": "Python 3 (ipykernel)",
   "language": "python",
   "name": "python3"
  },
  "language_info": {
   "codemirror_mode": {
    "name": "ipython",
    "version": 3
   },
   "file_extension": ".py",
   "mimetype": "text/x-python",
   "name": "python",
   "nbconvert_exporter": "python",
   "pygments_lexer": "ipython3",
   "version": "3.11.2"
  }
 },
 "nbformat": 4,
 "nbformat_minor": 5
}
