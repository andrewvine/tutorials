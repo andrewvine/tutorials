{
 "cells": [
  {
   "cell_type": "markdown",
   "id": "c6b13260-45c4-4ccb-b86d-f8f3fbd16977",
   "metadata": {},
   "source": [
    "# Retention Curves"
   ]
  },
  {
   "cell_type": "code",
   "execution_count": null,
   "id": "cd9b60d5-3ac5-4af8-a324-c3b94bf32fb0",
   "metadata": {},
   "outputs": [],
   "source": [
    "%run 'SetupRetail.ipynb'"
   ]
  },
  {
   "cell_type": "code",
   "execution_count": null,
   "id": "22e6885c-a22d-4dd0-a1ea-2825f2910804",
   "metadata": {},
   "outputs": [],
   "source": [
    "%%sql\n",
    "\n",
    "with cte as (\n",
    "select customer_id\n",
    ",count(distinct(order_id)) as num_orders \n",
    "from orders group by customer_id \n",
    "order by num_orders desc\n",
    ")\n",
    "select num_orders, count(*) as cnt \n",
    "from cte group by num_orders \n",
    "order by num_orders;"
   ]
  },
  {
   "cell_type": "markdown",
   "id": "fa40ddf8-ae31-4d5c-a3ba-6403764775d2",
   "metadata": {},
   "source": [
    "How many customers in each period will go on to buy in following periods"
   ]
  },
  {
   "cell_type": "code",
   "execution_count": null,
   "id": "090feb88-12b2-44b8-a5da-c60dc1b7a51d",
   "metadata": {},
   "outputs": [],
   "source": [
    "%%sql --save retention_months --no-execute\n",
    "\n",
    "with nums as (\n",
    "  select generate_series as num from generate_series(0,500) \n",
    "),\n",
    "\n",
    "cte1 as (select customer_id\n",
    ",first_value(order_date) over cust_orders as first_order\n",
    ",last_value(order_date) over cust_orders as last_order\n",
    ",order_date\n",
    "from orders \n",
    "window cust_orders as (\n",
    "    partition by customer_id order by order_date asc\n",
    "    rows between unbounded preceding and unbounded following\n",
    ")\n",
    "order by customer_id, order_date),\n",
    "\n",
    "cte2 as (\n",
    "select customer_id\n",
    ",first_order\n",
    ",last_order\n",
    ",date_diff('month', first_order, last_order) as periods \n",
    "from cte1),\n",
    "\n",
    "cte3 as (\n",
    "select periods\n",
    ",count(*) as cnt \n",
    "from cte2 \n",
    "group by periods \n",
    "order by periods asc\n",
    ")\n",
    "\n",
    "select num, sum(cnt) as retained from cte3 join nums n on n.num <= periods group by num order by num; "
   ]
  },
  {
   "cell_type": "code",
   "execution_count": null,
   "id": "f9c495ec-9f85-4058-8194-20c0636dd1c3",
   "metadata": {},
   "outputs": [],
   "source": [
    "result = %sql select * from retention_months;\n",
    "result.set_index(\"num\").plot()"
   ]
  }
 ],
 "metadata": {
  "kernelspec": {
   "display_name": "Python 3 (ipykernel)",
   "language": "python",
   "name": "python3"
  },
  "language_info": {
   "codemirror_mode": {
    "name": "ipython",
    "version": 3
   },
   "file_extension": ".py",
   "mimetype": "text/x-python",
   "name": "python",
   "nbconvert_exporter": "python",
   "pygments_lexer": "ipython3",
   "version": "3.11.2"
  }
 },
 "nbformat": 4,
 "nbformat_minor": 5
}
