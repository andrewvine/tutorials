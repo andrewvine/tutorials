{
 "cells": [
  {
   "cell_type": "markdown",
   "id": "c6b13260-45c4-4ccb-b86d-f8f3fbd16977",
   "metadata": {},
   "source": [
    "# Retention Curves\n",
    "\n",
    "To start we'll need to do some imports and load the [Jupysql](https://jupysql.ploomber.io/en/latest/quick-start.html) extension which allows is to conveniently write SQL directly in cells."
   ]
  },
  {
   "cell_type": "code",
   "execution_count": 1,
   "id": "cd9b60d5-3ac5-4af8-a324-c3b94bf32fb0",
   "metadata": {},
   "outputs": [],
   "source": [
    "import duckdb\n",
    "import pandas as pd\n",
    "import matplotlib.pyplot as plt\n",
    "\n",
    "%load_ext sql"
   ]
  },
  {
   "cell_type": "markdown",
   "id": "3d49f2f8-a7b6-4098-819a-0cae2d1719aa",
   "metadata": {},
   "source": [
    "We'll also set some Jupysql configuration options. Other options can be viewed [here](https://jupysql.ploomber.io/en/latest/api/configuration.html)."
   ]
  },
  {
   "cell_type": "code",
   "execution_count": 2,
   "id": "b408c7a8-d3b8-46d4-b315-da1f5beb3d8c",
   "metadata": {},
   "outputs": [],
   "source": [
    "# Return the resultset as a pandas dataframe\n",
    "%config SqlMagic.autopandas = True\n",
    "\n",
    "# Verbosity level. 0=minimal, 1=normal, 2=all\n",
    "%config SqlMagic.feedback = 0\n",
    "\n",
    "# Show connection string after execution\n",
    "%config SqlMagic.displaycon = False\n",
    "\n",
    "%config SqlMagic.displaylimit = 10"
   ]
  },
  {
   "cell_type": "markdown",
   "id": "c63ff3bc-b584-4a77-b8eb-afa1b618abe4",
   "metadata": {},
   "source": [
    "Connnect to an **in-memory** duckdb database."
   ]
  },
  {
   "cell_type": "code",
   "execution_count": 3,
   "id": "28ba7d16-589f-4377-bb4a-f8477e0f30ec",
   "metadata": {},
   "outputs": [],
   "source": [
    "%sql duckdb:///:default:"
   ]
  },
  {
   "cell_type": "markdown",
   "id": "77bbcd6e-bc66-472d-b2cf-ffbab70d3149",
   "metadata": {},
   "source": [
    "And now we are ready to do a little data wrangling.\n",
    "\n",
    "The dataset we'll be using was downloaded from [Kaggle](https://www.kaggle.com/datasets/gabrielsantello/wholesale-and-retail-orders-dataset) and consists of a single csv containing order lines. Let's look at a sample."
   ]
  },
  {
   "cell_type": "code",
   "execution_count": 4,
   "id": "9c4715e2-ef82-4c2f-b3af-6bebc591e406",
   "metadata": {},
   "outputs": [
    {
     "data": {
      "text/html": [
       "<div>\n",
       "<style scoped>\n",
       "    .dataframe tbody tr th:only-of-type {\n",
       "        vertical-align: middle;\n",
       "    }\n",
       "\n",
       "    .dataframe tbody tr th {\n",
       "        vertical-align: top;\n",
       "    }\n",
       "\n",
       "    .dataframe thead th {\n",
       "        text-align: right;\n",
       "    }\n",
       "</style>\n",
       "<table border=\"1\" class=\"dataframe\">\n",
       "  <thead>\n",
       "    <tr style=\"text-align: right;\">\n",
       "      <th></th>\n",
       "      <th>Customer ID</th>\n",
       "      <th>Customer Status</th>\n",
       "      <th>Date Order was placed</th>\n",
       "      <th>Delivery Date</th>\n",
       "      <th>Order ID</th>\n",
       "      <th>Product ID</th>\n",
       "      <th>Quantity Ordered</th>\n",
       "      <th>Total Retail Price for This Order</th>\n",
       "      <th>Cost Price Per Unit</th>\n",
       "    </tr>\n",
       "  </thead>\n",
       "  <tbody>\n",
       "    <tr>\n",
       "      <th>0</th>\n",
       "      <td>579</td>\n",
       "      <td>Silver</td>\n",
       "      <td>01-Jan-17</td>\n",
       "      <td>07-Jan-17</td>\n",
       "      <td>123002578</td>\n",
       "      <td>220101400106</td>\n",
       "      <td>2</td>\n",
       "      <td>92.6</td>\n",
       "      <td>20.70</td>\n",
       "    </tr>\n",
       "    <tr>\n",
       "      <th>1</th>\n",
       "      <td>7574</td>\n",
       "      <td>SILVER</td>\n",
       "      <td>01-Jan-17</td>\n",
       "      <td>05-Jan-17</td>\n",
       "      <td>123004074</td>\n",
       "      <td>210201000009</td>\n",
       "      <td>1</td>\n",
       "      <td>21.7</td>\n",
       "      <td>9.95</td>\n",
       "    </tr>\n",
       "    <tr>\n",
       "      <th>2</th>\n",
       "      <td>28861</td>\n",
       "      <td>Gold</td>\n",
       "      <td>01-Jan-17</td>\n",
       "      <td>04-Jan-17</td>\n",
       "      <td>123000871</td>\n",
       "      <td>230100500068</td>\n",
       "      <td>1</td>\n",
       "      <td>1.7</td>\n",
       "      <td>0.80</td>\n",
       "    </tr>\n",
       "    <tr>\n",
       "      <th>3</th>\n",
       "      <td>43796</td>\n",
       "      <td>Gold</td>\n",
       "      <td>01-Jan-17</td>\n",
       "      <td>06-Jan-17</td>\n",
       "      <td>123002851</td>\n",
       "      <td>220100100633</td>\n",
       "      <td>1</td>\n",
       "      <td>47.9</td>\n",
       "      <td>24.05</td>\n",
       "    </tr>\n",
       "    <tr>\n",
       "      <th>4</th>\n",
       "      <td>54673</td>\n",
       "      <td>Gold</td>\n",
       "      <td>01-Jan-17</td>\n",
       "      <td>04-Jan-17</td>\n",
       "      <td>123003607</td>\n",
       "      <td>220200200043</td>\n",
       "      <td>1</td>\n",
       "      <td>36.9</td>\n",
       "      <td>18.30</td>\n",
       "    </tr>\n",
       "  </tbody>\n",
       "</table>\n",
       "</div>"
      ],
      "text/plain": [
       "   Customer ID Customer Status Date Order was placed Delivery Date   Order ID  \\\n",
       "0          579          Silver             01-Jan-17     07-Jan-17  123002578   \n",
       "1         7574          SILVER             01-Jan-17     05-Jan-17  123004074   \n",
       "2        28861            Gold             01-Jan-17     04-Jan-17  123000871   \n",
       "3        43796            Gold             01-Jan-17     06-Jan-17  123002851   \n",
       "4        54673            Gold             01-Jan-17     04-Jan-17  123003607   \n",
       "\n",
       "     Product ID  Quantity Ordered  Total Retail Price for This Order  \\\n",
       "0  220101400106                 2                               92.6   \n",
       "1  210201000009                 1                               21.7   \n",
       "2  230100500068                 1                                1.7   \n",
       "3  220100100633                 1                               47.9   \n",
       "4  220200200043                 1                               36.9   \n",
       "\n",
       "   Cost Price Per Unit  \n",
       "0                20.70  \n",
       "1                 9.95  \n",
       "2                 0.80  \n",
       "3                24.05  \n",
       "4                18.30  "
      ]
     },
     "execution_count": 4,
     "metadata": {},
     "output_type": "execute_result"
    }
   ],
   "source": [
    "%sql select * from read_csv_auto('./data/retail_orders/orders.csv') limit 5;"
   ]
  },
  {
   "cell_type": "markdown",
   "id": "718517bf-edf0-43bf-8b64-140643037628",
   "metadata": {},
   "source": [
    "It looks like some basic wrangling like renaming the columns, setting the date format and standardising the status column is needed. "
   ]
  },
  {
   "cell_type": "code",
   "execution_count": 5,
   "id": "bbf451dd-ac81-42ed-bc10-f98d68e7a9b7",
   "metadata": {},
   "outputs": [
    {
     "data": {
      "text/html": [
       "<div>\n",
       "<style scoped>\n",
       "    .dataframe tbody tr th:only-of-type {\n",
       "        vertical-align: middle;\n",
       "    }\n",
       "\n",
       "    .dataframe tbody tr th {\n",
       "        vertical-align: top;\n",
       "    }\n",
       "\n",
       "    .dataframe thead th {\n",
       "        text-align: right;\n",
       "    }\n",
       "</style>\n",
       "<table border=\"1\" class=\"dataframe\">\n",
       "  <thead>\n",
       "    <tr style=\"text-align: right;\">\n",
       "      <th></th>\n",
       "      <th>Success</th>\n",
       "    </tr>\n",
       "  </thead>\n",
       "  <tbody>\n",
       "  </tbody>\n",
       "</table>\n",
       "</div>"
      ],
      "text/plain": [
       "Empty DataFrame\n",
       "Columns: [Success]\n",
       "Index: []"
      ]
     },
     "execution_count": 5,
     "metadata": {},
     "output_type": "execute_result"
    }
   ],
   "source": [
    "%%sql\n",
    "\n",
    "-- Read in the csv file and rename the columns and set the dateformat\n",
    "\n",
    "create or replace table orders as select * from read_csv_auto(\n",
    "    './data/retail_orders/orders.csv', \n",
    "    names=[\n",
    "        'customer_id', \n",
    "        'status', \n",
    "        'order_date', \n",
    "        'delivery_date', \n",
    "        'order_id', \n",
    "        'product_id', \n",
    "        'qty', \n",
    "        'total', \n",
    "        'unit_cost', \n",
    "    ],\n",
    "    skip=1,\n",
    "    dateformat='%d-%b-%y'\n",
    ");\n",
    "\n",
    "-- Standardise the status column as lowercase\n",
    "\n",
    "update orders set status = lower(status) where lower(status) <> status;"
   ]
  },
  {
   "cell_type": "code",
   "execution_count": 9,
   "id": "22e6885c-a22d-4dd0-a1ea-2825f2910804",
   "metadata": {},
   "outputs": [
    {
     "data": {
      "text/html": [
       "<div>\n",
       "<style scoped>\n",
       "    .dataframe tbody tr th:only-of-type {\n",
       "        vertical-align: middle;\n",
       "    }\n",
       "\n",
       "    .dataframe tbody tr th {\n",
       "        vertical-align: top;\n",
       "    }\n",
       "\n",
       "    .dataframe thead th {\n",
       "        text-align: right;\n",
       "    }\n",
       "</style>\n",
       "<table border=\"1\" class=\"dataframe\">\n",
       "  <thead>\n",
       "    <tr style=\"text-align: right;\">\n",
       "      <th></th>\n",
       "      <th>num_orders</th>\n",
       "      <th>cnt</th>\n",
       "    </tr>\n",
       "  </thead>\n",
       "  <tbody>\n",
       "    <tr>\n",
       "      <th>0</th>\n",
       "      <td>1</td>\n",
       "      <td>15008</td>\n",
       "    </tr>\n",
       "    <tr>\n",
       "      <th>1</th>\n",
       "      <td>2</td>\n",
       "      <td>12056</td>\n",
       "    </tr>\n",
       "    <tr>\n",
       "      <th>2</th>\n",
       "      <td>3</td>\n",
       "      <td>9087</td>\n",
       "    </tr>\n",
       "    <tr>\n",
       "      <th>3</th>\n",
       "      <td>4</td>\n",
       "      <td>6526</td>\n",
       "    </tr>\n",
       "    <tr>\n",
       "      <th>4</th>\n",
       "      <td>5</td>\n",
       "      <td>4497</td>\n",
       "    </tr>\n",
       "    <tr>\n",
       "      <th>5</th>\n",
       "      <td>6</td>\n",
       "      <td>3029</td>\n",
       "    </tr>\n",
       "    <tr>\n",
       "      <th>6</th>\n",
       "      <td>7</td>\n",
       "      <td>2010</td>\n",
       "    </tr>\n",
       "    <tr>\n",
       "      <th>7</th>\n",
       "      <td>8</td>\n",
       "      <td>1287</td>\n",
       "    </tr>\n",
       "    <tr>\n",
       "      <th>8</th>\n",
       "      <td>9</td>\n",
       "      <td>889</td>\n",
       "    </tr>\n",
       "    <tr>\n",
       "      <th>9</th>\n",
       "      <td>10</td>\n",
       "      <td>548</td>\n",
       "    </tr>\n",
       "    <tr>\n",
       "      <th>10</th>\n",
       "      <td>11</td>\n",
       "      <td>373</td>\n",
       "    </tr>\n",
       "    <tr>\n",
       "      <th>11</th>\n",
       "      <td>12</td>\n",
       "      <td>252</td>\n",
       "    </tr>\n",
       "    <tr>\n",
       "      <th>12</th>\n",
       "      <td>13</td>\n",
       "      <td>162</td>\n",
       "    </tr>\n",
       "    <tr>\n",
       "      <th>13</th>\n",
       "      <td>14</td>\n",
       "      <td>98</td>\n",
       "    </tr>\n",
       "    <tr>\n",
       "      <th>14</th>\n",
       "      <td>15</td>\n",
       "      <td>83</td>\n",
       "    </tr>\n",
       "    <tr>\n",
       "      <th>15</th>\n",
       "      <td>16</td>\n",
       "      <td>42</td>\n",
       "    </tr>\n",
       "    <tr>\n",
       "      <th>16</th>\n",
       "      <td>17</td>\n",
       "      <td>28</td>\n",
       "    </tr>\n",
       "    <tr>\n",
       "      <th>17</th>\n",
       "      <td>18</td>\n",
       "      <td>17</td>\n",
       "    </tr>\n",
       "    <tr>\n",
       "      <th>18</th>\n",
       "      <td>19</td>\n",
       "      <td>14</td>\n",
       "    </tr>\n",
       "    <tr>\n",
       "      <th>19</th>\n",
       "      <td>20</td>\n",
       "      <td>7</td>\n",
       "    </tr>\n",
       "    <tr>\n",
       "      <th>20</th>\n",
       "      <td>21</td>\n",
       "      <td>5</td>\n",
       "    </tr>\n",
       "    <tr>\n",
       "      <th>21</th>\n",
       "      <td>22</td>\n",
       "      <td>5</td>\n",
       "    </tr>\n",
       "    <tr>\n",
       "      <th>22</th>\n",
       "      <td>23</td>\n",
       "      <td>1</td>\n",
       "    </tr>\n",
       "    <tr>\n",
       "      <th>23</th>\n",
       "      <td>24</td>\n",
       "      <td>2</td>\n",
       "    </tr>\n",
       "    <tr>\n",
       "      <th>24</th>\n",
       "      <td>26</td>\n",
       "      <td>1</td>\n",
       "    </tr>\n",
       "  </tbody>\n",
       "</table>\n",
       "</div>"
      ],
      "text/plain": [
       "    num_orders    cnt\n",
       "0            1  15008\n",
       "1            2  12056\n",
       "2            3   9087\n",
       "3            4   6526\n",
       "4            5   4497\n",
       "5            6   3029\n",
       "6            7   2010\n",
       "7            8   1287\n",
       "8            9    889\n",
       "9           10    548\n",
       "10          11    373\n",
       "11          12    252\n",
       "12          13    162\n",
       "13          14     98\n",
       "14          15     83\n",
       "15          16     42\n",
       "16          17     28\n",
       "17          18     17\n",
       "18          19     14\n",
       "19          20      7\n",
       "20          21      5\n",
       "21          22      5\n",
       "22          23      1\n",
       "23          24      2\n",
       "24          26      1"
      ]
     },
     "execution_count": 9,
     "metadata": {},
     "output_type": "execute_result"
    }
   ],
   "source": [
    "%%sql\n",
    "\n",
    "with cte as (\n",
    "select customer_id\n",
    ",count(distinct(order_id)) as num_orders \n",
    "from orders group by customer_id \n",
    "order by num_orders desc\n",
    ")\n",
    "select num_orders, count(*) as cnt \n",
    "from cte group by num_orders \n",
    "order by num_orders;"
   ]
  },
  {
   "cell_type": "markdown",
   "id": "fa40ddf8-ae31-4d5c-a3ba-6403764775d2",
   "metadata": {},
   "source": [
    "How many customers in each period will go on to buy in following periods"
   ]
  },
  {
   "cell_type": "code",
   "execution_count": 43,
   "id": "090feb88-12b2-44b8-a5da-c60dc1b7a51d",
   "metadata": {},
   "outputs": [
    {
     "data": {
      "text/html": [
       "<span style=\"None\">Skipping execution...</span>"
      ],
      "text/plain": [
       "Skipping execution..."
      ]
     },
     "metadata": {},
     "output_type": "display_data"
    }
   ],
   "source": [
    "%%sql --save retention_months --no-execute\n",
    "\n",
    "with nums as (\n",
    "  select generate_series as num from generate_series(0,500) \n",
    "),\n",
    "\n",
    "cte1 as (select customer_id\n",
    ",first_value(order_date) over cust_orders as first_order\n",
    ",last_value(order_date) over cust_orders as last_order\n",
    ",order_date\n",
    "from orders \n",
    "window cust_orders as (\n",
    "    partition by customer_id order by order_date asc\n",
    "    rows between unbounded preceding and unbounded following\n",
    ")\n",
    "order by customer_id, order_date),\n",
    "\n",
    "cte2 as (\n",
    "select customer_id\n",
    ",first_order\n",
    ",last_order\n",
    ",date_diff('month', first_order, last_order) as periods \n",
    "from cte1),\n",
    "\n",
    "cte3 as (\n",
    "select periods\n",
    ",count(*) as cnt \n",
    "from cte2 \n",
    "group by periods \n",
    "order by periods asc\n",
    ")\n",
    "\n",
    "select num, sum(cnt) as retained from cte3 join nums n on n.num <= periods group by num order by num; "
   ]
  },
  {
   "cell_type": "code",
   "execution_count": 42,
   "id": "f9c495ec-9f85-4058-8194-20c0636dd1c3",
   "metadata": {},
   "outputs": [
    {
     "data": {
      "text/html": [
       "<span style=\"None\">Generating CTE with stored snippets: &#x27;retention_months&#x27;</span>"
      ],
      "text/plain": [
       "Generating CTE with stored snippets: 'retention_months'"
      ]
     },
     "metadata": {},
     "output_type": "display_data"
    },
    {
     "data": {
      "text/plain": [
       "<Axes: xlabel='num'>"
      ]
     },
     "execution_count": 42,
     "metadata": {},
     "output_type": "execute_result"
    },
    {
     "data": {
      "image/png": "[encoded data removed]",
      "text/plain": [
       "<Figure size 640x480 with 1 Axes>"
      ]
     },
     "metadata": {},
     "output_type": "display_data"
    }
   ],
   "source": [
    "result = %sql select * from retention_months;\n",
    "result.set_index(\"num\").plot()"
   ]
  }
 ],
 "metadata": {
  "kernelspec": {
   "display_name": "Python 3 (ipykernel)",
   "language": "python",
   "name": "python3"
  },
  "language_info": {
   "codemirror_mode": {
    "name": "ipython",
    "version": 3
   },
   "file_extension": ".py",
   "mimetype": "text/x-python",
   "name": "python",
   "nbconvert_exporter": "python",
   "pygments_lexer": "ipython3",
   "version": "3.10.12"
  }
 },
 "nbformat": 4,
 "nbformat_minor": 5
}
