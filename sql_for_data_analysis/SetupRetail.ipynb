{
 "cells": [
  {
   "cell_type": "markdown",
   "id": "c6b13260-45c4-4ccb-b86d-f8f3fbd16977",
   "metadata": {},
   "source": [
    "# Setup Retail\n",
    "\n",
    "To start we'll need to do some imports and load the [Jupysql](https://jupysql.ploomber.io/en/latest/quick-start.html) extension which allows is to conveniently write SQL directly in cells."
   ]
  },
  {
   "cell_type": "code",
   "execution_count": null,
   "id": "cd9b60d5-3ac5-4af8-a324-c3b94bf32fb0",
   "metadata": {},
   "outputs": [],
   "source": [
    "import duckdb\n",
    "import pandas as pd\n",
    "import matplotlib.pyplot as plt\n",
    "\n",
    "%load_ext sql"
   ]
  },
  {
   "cell_type": "markdown",
   "id": "3d49f2f8-a7b6-4098-819a-0cae2d1719aa",
   "metadata": {},
   "source": [
    "We'll also set some Jupysql configuration options. Other options can be viewed [here](https://jupysql.ploomber.io/en/latest/api/configuration.html)."
   ]
  },
  {
   "cell_type": "code",
   "execution_count": null,
   "id": "b408c7a8-d3b8-46d4-b315-da1f5beb3d8c",
   "metadata": {},
   "outputs": [],
   "source": [
    "# Return the resultset as a pandas dataframe\n",
    "%config SqlMagic.autopandas = True\n",
    "\n",
    "# Verbosity level. 0=minimal, 1=normal, 2=all\n",
    "%config SqlMagic.feedback = 0\n",
    "\n",
    "# Show connection string after execution\n",
    "%config SqlMagic.displaycon = False\n",
    "\n",
    "%config SqlMagic.displaylimit = 10"
   ]
  },
  {
   "cell_type": "markdown",
   "id": "c63ff3bc-b584-4a77-b8eb-afa1b618abe4",
   "metadata": {},
   "source": [
    "Connnect to an **in-memory** duckdb database."
   ]
  },
  {
   "cell_type": "code",
   "execution_count": null,
   "id": "28ba7d16-589f-4377-bb4a-f8477e0f30ec",
   "metadata": {},
   "outputs": [],
   "source": [
    "%sql duckdb:///:default:"
   ]
  },
  {
   "cell_type": "markdown",
   "id": "77bbcd6e-bc66-472d-b2cf-ffbab70d3149",
   "metadata": {},
   "source": [
    "And now we are ready to do a little data wrangling.\n",
    "\n",
    "The dataset we'll be using was downloaded from [Kaggle](https://www.kaggle.com/datasets/gabrielsantello/wholesale-and-retail-orders-dataset) and consists of a single csv containing order lines. Let's look at a sample."
   ]
  },
  {
   "cell_type": "code",
   "execution_count": null,
   "id": "9c4715e2-ef82-4c2f-b3af-6bebc591e406",
   "metadata": {},
   "outputs": [],
   "source": [
    "%sql select * from read_csv_auto('./data/retail_orders/orders.csv') limit 5;"
   ]
  },
  {
   "cell_type": "markdown",
   "id": "718517bf-edf0-43bf-8b64-140643037628",
   "metadata": {},
   "source": [
    "It looks like some basic wrangling like renaming the columns, setting the date format and standardising the status column is needed. "
   ]
  },
  {
   "cell_type": "code",
   "execution_count": null,
   "id": "bbf451dd-ac81-42ed-bc10-f98d68e7a9b7",
   "metadata": {},
   "outputs": [],
   "source": [
    "%%sql\n",
    "\n",
    "-- Read in the csv file and rename the columns and set the dateformat\n",
    "\n",
    "create or replace table orders as select * from read_csv_auto(\n",
    "    './data/retail_orders/orders.csv', \n",
    "    names=[\n",
    "        'customer_id', \n",
    "        'status', \n",
    "        'order_date', \n",
    "        'delivery_date', \n",
    "        'order_id', \n",
    "        'product_id', \n",
    "        'qty', \n",
    "        'total', \n",
    "        'unit_cost', \n",
    "    ],\n",
    "    skip=1,\n",
    "    dateformat='%d-%b-%y'\n",
    ");\n",
    "\n",
    "-- Standardise the status column as lowercase\n",
    "\n",
    "update orders set status = lower(status) where lower(status) <> status;"
   ]
  }
 ],
 "metadata": {
  "kernelspec": {
   "display_name": "Python 3 (ipykernel)",
   "language": "python",
   "name": "python3"
  },
  "language_info": {
   "codemirror_mode": {
    "name": "ipython",
    "version": 3
   },
   "file_extension": ".py",
   "mimetype": "text/x-python",
   "name": "python",
   "nbconvert_exporter": "python",
   "pygments_lexer": "ipython3",
   "version": "3.11.2"
  }
 },
 "nbformat": 4,
 "nbformat_minor": 5
}
